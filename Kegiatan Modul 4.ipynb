{
 "cells": [
  {
   "cell_type": "markdown",
   "metadata": {
    "colab_type": "text",
    "id": "Ce1QYj9YTyv8"
   },
   "source": [
    "# **Kegiatan Modul 4**"
   ]
  },
  {
   "cell_type": "markdown",
   "metadata": {
    "colab_type": "text",
    "id": "kOw3wDqkT3Eh"
   },
   "source": [
    "**Poin penilaian :**\n",
    "\n",
    "* Tingkat kesesuaian program\n",
    "* Kesesuaian step preprocessing dan pemodelan\n",
    "* Penjelasan yang tepat\n",
    "* Kerapian kode program\n",
    "* Tidak ada error"
   ]
  },
  {
   "cell_type": "code",
   "execution_count": 1,
   "metadata": {
    "colab": {},
    "colab_type": "code",
    "id": "vqBlACAAUX3S"
   },
   "outputs": [],
   "source": [
    "import pandas as pd\n",
    "import pylab as pl\n",
    "import numpy as np\n",
    "import scipy.optimize as opt\n",
    "from sklearn import preprocessing\n",
    "%matplotlib inline \n",
    "import matplotlib.pyplot as plt\n",
    "import wget\n",
    "from sklearn.linear_model import LogisticRegression\n",
    "from sklearn.metrics import classification_report, confusion_matrix"
   ]
  },
  {
   "cell_type": "markdown",
   "metadata": {
    "colab_type": "text",
    "id": "0P2feQZJUdvv"
   },
   "source": [
    "### Tentang dataset\n",
    "\n",
    "Kita akan menggunakan data telekomunikasi untuk memprediksi churn pelanggan. Ini adalah data pelanggan historis di mana setiap baris mewakili satu pelanggan. Data ini relatif mudah dipahami, dan Anda dapat mengungkap wawasan yang dapat Anda gunakan segera. Biasanya lebih murah untuk mempertahankan pelanggan daripada membeli yang baru, jadi fokus analisis ini adalah untuk memprediksi pelanggan yang akan tinggal di perusahaan.\n",
    "\n",
    "Kumpulan data ini menyediakan info untuk membantu Anda memprediksi perilaku mempertahankan pelanggan. Anda dapat menganalisis semua data pelanggan yang relevan dan mengembangkan program retensi pelanggan yang terfokus.\n",
    "\n",
    "Kumpulan data mencakup informasi tentang:\n",
    "\n",
    "- Pelanggan yang pergi dalam sebulan terakhir - kolom ini disebut Churn\n",
    "- Layanan yang telah ditandatangani oleh setiap pelanggan - telepon, banyak saluran, internet, keamanan online, cadangan online, perlindungan perangkat, dukungan teknis, dan streaming TV dan film\n",
    "- Informasi akun pelanggan - berapa lama mereka menjadi pelanggan, kontrak, metode pembayaran, penagihan tanpa kertas, biaya bulanan, dan total biaya\n",
    "- Info demografis tentang pelanggan - jenis kelamin, rentang usia, dan jika mereka memiliki mitra dan tanggungan"
   ]
  },
  {
   "cell_type": "markdown",
   "metadata": {
    "colab_type": "text",
    "id": "JBjU-xM5Ul5s"
   },
   "source": [
    "### **Download the Telco Churn data**\n",
    "\n",
    "Telco Churn adalah file data hipotetis yang menyangkut upaya perusahaan telekomunikasi untuk mengurangi turnover di basis pelanggannya. Setiap kasing sesuai dengan pelanggan terpisah dan mencatat berbagai informasi penggunaan layanan dan demografis. Sebelum Anda dapat bekerja dengan data, Anda harus menggunakan URL untuk mendapatkan ChurnData.csv.\n",
    "\n",
    "Untuk mengunduh data, kami akan menggunakan `!wget` untuk mengunduhnya dari IBM Object Storage."
   ]
  },
  {
   "cell_type": "code",
   "execution_count": 2,
   "metadata": {
    "colab": {
     "base_uri": "https://localhost:8080/",
     "height": 202
    },
    "colab_type": "code",
    "executionInfo": {
     "elapsed": 3021,
     "status": "ok",
     "timestamp": 1581405996937,
     "user": {
      "displayName": "Moch. Chamdani Mustaqim",
      "photoUrl": "https://lh3.googleusercontent.com/-33nbQYx-djs/AAAAAAAAAAI/AAAAAAAACx4/SN7K3gZtORs/s64/photo.jpg",
      "userId": "12782341176521372008"
     },
     "user_tz": -420
    },
    "id": "jF6qYZXdT0mN",
    "outputId": "3e4ff57c-c28a-44ed-e79a-1189b3bf71cf"
   },
   "outputs": [],
   "source": [
    "# wget.download('https://s3-api.us-geo.objectstorage.softlayer.net/cf-courses-data/CognitiveClass/ML0101ENv3/labs/ChurnData.csv')"
   ]
  },
  {
   "cell_type": "markdown",
   "metadata": {
    "colab_type": "text",
    "id": "R2Ge8cYqVCRk"
   },
   "source": [
    "## **SOAL-SOAL**"
   ]
  },
  {
   "cell_type": "markdown",
   "metadata": {
    "colab_type": "text",
    "id": "KxxQ9WP4U05O"
   },
   "source": [
    "Kegiatan 1. **5 poin**\n",
    "\n",
    "Load dataset dari file csv."
   ]
  },
  {
   "cell_type": "code",
   "execution_count": 3,
   "metadata": {
    "colab": {},
    "colab_type": "code",
    "id": "znKaRHdbUrcp"
   },
   "outputs": [
    {
     "data": {
      "text/html": [
       "<div>\n",
       "<style scoped>\n",
       "    .dataframe tbody tr th:only-of-type {\n",
       "        vertical-align: middle;\n",
       "    }\n",
       "\n",
       "    .dataframe tbody tr th {\n",
       "        vertical-align: top;\n",
       "    }\n",
       "\n",
       "    .dataframe thead th {\n",
       "        text-align: right;\n",
       "    }\n",
       "</style>\n",
       "<table border=\"1\" class=\"dataframe\">\n",
       "  <thead>\n",
       "    <tr style=\"text-align: right;\">\n",
       "      <th></th>\n",
       "      <th>tenure</th>\n",
       "      <th>age</th>\n",
       "      <th>address</th>\n",
       "      <th>income</th>\n",
       "      <th>ed</th>\n",
       "      <th>employ</th>\n",
       "      <th>equip</th>\n",
       "      <th>callcard</th>\n",
       "      <th>wireless</th>\n",
       "      <th>longmon</th>\n",
       "      <th>...</th>\n",
       "      <th>pager</th>\n",
       "      <th>internet</th>\n",
       "      <th>callwait</th>\n",
       "      <th>confer</th>\n",
       "      <th>ebill</th>\n",
       "      <th>loglong</th>\n",
       "      <th>logtoll</th>\n",
       "      <th>lninc</th>\n",
       "      <th>custcat</th>\n",
       "      <th>churn</th>\n",
       "    </tr>\n",
       "  </thead>\n",
       "  <tbody>\n",
       "    <tr>\n",
       "      <td>0</td>\n",
       "      <td>11.0</td>\n",
       "      <td>33.0</td>\n",
       "      <td>7.0</td>\n",
       "      <td>136.0</td>\n",
       "      <td>5.0</td>\n",
       "      <td>5.0</td>\n",
       "      <td>0.0</td>\n",
       "      <td>1.0</td>\n",
       "      <td>1.0</td>\n",
       "      <td>4.40</td>\n",
       "      <td>...</td>\n",
       "      <td>1.0</td>\n",
       "      <td>0.0</td>\n",
       "      <td>1.0</td>\n",
       "      <td>1.0</td>\n",
       "      <td>0.0</td>\n",
       "      <td>1.482</td>\n",
       "      <td>3.033</td>\n",
       "      <td>4.913</td>\n",
       "      <td>4.0</td>\n",
       "      <td>1.0</td>\n",
       "    </tr>\n",
       "    <tr>\n",
       "      <td>1</td>\n",
       "      <td>33.0</td>\n",
       "      <td>33.0</td>\n",
       "      <td>12.0</td>\n",
       "      <td>33.0</td>\n",
       "      <td>2.0</td>\n",
       "      <td>0.0</td>\n",
       "      <td>0.0</td>\n",
       "      <td>0.0</td>\n",
       "      <td>0.0</td>\n",
       "      <td>9.45</td>\n",
       "      <td>...</td>\n",
       "      <td>0.0</td>\n",
       "      <td>0.0</td>\n",
       "      <td>0.0</td>\n",
       "      <td>0.0</td>\n",
       "      <td>0.0</td>\n",
       "      <td>2.246</td>\n",
       "      <td>3.240</td>\n",
       "      <td>3.497</td>\n",
       "      <td>1.0</td>\n",
       "      <td>1.0</td>\n",
       "    </tr>\n",
       "    <tr>\n",
       "      <td>2</td>\n",
       "      <td>23.0</td>\n",
       "      <td>30.0</td>\n",
       "      <td>9.0</td>\n",
       "      <td>30.0</td>\n",
       "      <td>1.0</td>\n",
       "      <td>2.0</td>\n",
       "      <td>0.0</td>\n",
       "      <td>0.0</td>\n",
       "      <td>0.0</td>\n",
       "      <td>6.30</td>\n",
       "      <td>...</td>\n",
       "      <td>0.0</td>\n",
       "      <td>0.0</td>\n",
       "      <td>0.0</td>\n",
       "      <td>1.0</td>\n",
       "      <td>0.0</td>\n",
       "      <td>1.841</td>\n",
       "      <td>3.240</td>\n",
       "      <td>3.401</td>\n",
       "      <td>3.0</td>\n",
       "      <td>0.0</td>\n",
       "    </tr>\n",
       "    <tr>\n",
       "      <td>3</td>\n",
       "      <td>38.0</td>\n",
       "      <td>35.0</td>\n",
       "      <td>5.0</td>\n",
       "      <td>76.0</td>\n",
       "      <td>2.0</td>\n",
       "      <td>10.0</td>\n",
       "      <td>1.0</td>\n",
       "      <td>1.0</td>\n",
       "      <td>1.0</td>\n",
       "      <td>6.05</td>\n",
       "      <td>...</td>\n",
       "      <td>1.0</td>\n",
       "      <td>1.0</td>\n",
       "      <td>1.0</td>\n",
       "      <td>1.0</td>\n",
       "      <td>1.0</td>\n",
       "      <td>1.800</td>\n",
       "      <td>3.807</td>\n",
       "      <td>4.331</td>\n",
       "      <td>4.0</td>\n",
       "      <td>0.0</td>\n",
       "    </tr>\n",
       "    <tr>\n",
       "      <td>4</td>\n",
       "      <td>7.0</td>\n",
       "      <td>35.0</td>\n",
       "      <td>14.0</td>\n",
       "      <td>80.0</td>\n",
       "      <td>2.0</td>\n",
       "      <td>15.0</td>\n",
       "      <td>0.0</td>\n",
       "      <td>1.0</td>\n",
       "      <td>0.0</td>\n",
       "      <td>7.10</td>\n",
       "      <td>...</td>\n",
       "      <td>0.0</td>\n",
       "      <td>0.0</td>\n",
       "      <td>1.0</td>\n",
       "      <td>1.0</td>\n",
       "      <td>0.0</td>\n",
       "      <td>1.960</td>\n",
       "      <td>3.091</td>\n",
       "      <td>4.382</td>\n",
       "      <td>3.0</td>\n",
       "      <td>0.0</td>\n",
       "    </tr>\n",
       "  </tbody>\n",
       "</table>\n",
       "<p>5 rows × 28 columns</p>\n",
       "</div>"
      ],
      "text/plain": [
       "   tenure   age  address  income   ed  employ  equip  callcard  wireless  \\\n",
       "0    11.0  33.0      7.0   136.0  5.0     5.0    0.0       1.0       1.0   \n",
       "1    33.0  33.0     12.0    33.0  2.0     0.0    0.0       0.0       0.0   \n",
       "2    23.0  30.0      9.0    30.0  1.0     2.0    0.0       0.0       0.0   \n",
       "3    38.0  35.0      5.0    76.0  2.0    10.0    1.0       1.0       1.0   \n",
       "4     7.0  35.0     14.0    80.0  2.0    15.0    0.0       1.0       0.0   \n",
       "\n",
       "   longmon  ...  pager  internet  callwait  confer  ebill  loglong  logtoll  \\\n",
       "0     4.40  ...    1.0       0.0       1.0     1.0    0.0    1.482    3.033   \n",
       "1     9.45  ...    0.0       0.0       0.0     0.0    0.0    2.246    3.240   \n",
       "2     6.30  ...    0.0       0.0       0.0     1.0    0.0    1.841    3.240   \n",
       "3     6.05  ...    1.0       1.0       1.0     1.0    1.0    1.800    3.807   \n",
       "4     7.10  ...    0.0       0.0       1.0     1.0    0.0    1.960    3.091   \n",
       "\n",
       "   lninc  custcat  churn  \n",
       "0  4.913      4.0    1.0  \n",
       "1  3.497      1.0    1.0  \n",
       "2  3.401      3.0    0.0  \n",
       "3  4.331      4.0    0.0  \n",
       "4  4.382      3.0    0.0  \n",
       "\n",
       "[5 rows x 28 columns]"
      ]
     },
     "execution_count": 3,
     "metadata": {},
     "output_type": "execute_result"
    }
   ],
   "source": [
    "# TULIS CODE ANDA DISINI\n",
    "df = pd.read_csv('ChurnData.csv')\n",
    "df.head()"
   ]
  },
  {
   "cell_type": "markdown",
   "metadata": {
    "colab_type": "text",
    "id": "4MPpoR9PIfcx"
   },
   "source": [
    "\n",
    "\n",
    "```\n",
    "# Output tabel\n",
    "```\n",
    "\n",
    "\n",
    "<img src = \"https://i.ibb.co/Ss0mQk3/1.png\" align = \"center\">"
   ]
  },
  {
   "cell_type": "markdown",
   "metadata": {
    "colab_type": "text",
    "id": "kAQAPH3AWJTD"
   },
   "source": [
    "### **Data pre-processing and selection**\n",
    "\n",
    "Kegiatan 2. **10 poin**\n",
    "\n",
    "Mari kita pilih beberapa fitur untuk pemodelan dalam kasus ini kita akan memilih fitur `tenure, age, address, income, ed, employ, equip, callcard, wireless, churn`. \n",
    "\n",
    "Kita juga mengubah tipe data target menjadi bilangan bulat, sebab merupakan persyaratan oleh algoritma pembelajaran scikit:"
   ]
  },
  {
   "cell_type": "code",
   "execution_count": 4,
   "metadata": {
    "colab": {},
    "colab_type": "code",
    "id": "JxAC8l2RVJ5y"
   },
   "outputs": [
    {
     "data": {
      "text/html": [
       "<div>\n",
       "<style scoped>\n",
       "    .dataframe tbody tr th:only-of-type {\n",
       "        vertical-align: middle;\n",
       "    }\n",
       "\n",
       "    .dataframe tbody tr th {\n",
       "        vertical-align: top;\n",
       "    }\n",
       "\n",
       "    .dataframe thead th {\n",
       "        text-align: right;\n",
       "    }\n",
       "</style>\n",
       "<table border=\"1\" class=\"dataframe\">\n",
       "  <thead>\n",
       "    <tr style=\"text-align: right;\">\n",
       "      <th></th>\n",
       "      <th>tenure</th>\n",
       "      <th>age</th>\n",
       "      <th>address</th>\n",
       "      <th>income</th>\n",
       "      <th>ed</th>\n",
       "      <th>employ</th>\n",
       "      <th>equip</th>\n",
       "      <th>callcard</th>\n",
       "      <th>wireless</th>\n",
       "      <th>churn</th>\n",
       "    </tr>\n",
       "  </thead>\n",
       "  <tbody>\n",
       "    <tr>\n",
       "      <td>0</td>\n",
       "      <td>11.0</td>\n",
       "      <td>33.0</td>\n",
       "      <td>7.0</td>\n",
       "      <td>136.0</td>\n",
       "      <td>5.0</td>\n",
       "      <td>5.0</td>\n",
       "      <td>0.0</td>\n",
       "      <td>1.0</td>\n",
       "      <td>1.0</td>\n",
       "      <td>1.0</td>\n",
       "    </tr>\n",
       "    <tr>\n",
       "      <td>1</td>\n",
       "      <td>33.0</td>\n",
       "      <td>33.0</td>\n",
       "      <td>12.0</td>\n",
       "      <td>33.0</td>\n",
       "      <td>2.0</td>\n",
       "      <td>0.0</td>\n",
       "      <td>0.0</td>\n",
       "      <td>0.0</td>\n",
       "      <td>0.0</td>\n",
       "      <td>1.0</td>\n",
       "    </tr>\n",
       "    <tr>\n",
       "      <td>2</td>\n",
       "      <td>23.0</td>\n",
       "      <td>30.0</td>\n",
       "      <td>9.0</td>\n",
       "      <td>30.0</td>\n",
       "      <td>1.0</td>\n",
       "      <td>2.0</td>\n",
       "      <td>0.0</td>\n",
       "      <td>0.0</td>\n",
       "      <td>0.0</td>\n",
       "      <td>0.0</td>\n",
       "    </tr>\n",
       "    <tr>\n",
       "      <td>3</td>\n",
       "      <td>38.0</td>\n",
       "      <td>35.0</td>\n",
       "      <td>5.0</td>\n",
       "      <td>76.0</td>\n",
       "      <td>2.0</td>\n",
       "      <td>10.0</td>\n",
       "      <td>1.0</td>\n",
       "      <td>1.0</td>\n",
       "      <td>1.0</td>\n",
       "      <td>0.0</td>\n",
       "    </tr>\n",
       "    <tr>\n",
       "      <td>4</td>\n",
       "      <td>7.0</td>\n",
       "      <td>35.0</td>\n",
       "      <td>14.0</td>\n",
       "      <td>80.0</td>\n",
       "      <td>2.0</td>\n",
       "      <td>15.0</td>\n",
       "      <td>0.0</td>\n",
       "      <td>1.0</td>\n",
       "      <td>0.0</td>\n",
       "      <td>0.0</td>\n",
       "    </tr>\n",
       "  </tbody>\n",
       "</table>\n",
       "</div>"
      ],
      "text/plain": [
       "   tenure   age  address  income   ed  employ  equip  callcard  wireless  \\\n",
       "0    11.0  33.0      7.0   136.0  5.0     5.0    0.0       1.0       1.0   \n",
       "1    33.0  33.0     12.0    33.0  2.0     0.0    0.0       0.0       0.0   \n",
       "2    23.0  30.0      9.0    30.0  1.0     2.0    0.0       0.0       0.0   \n",
       "3    38.0  35.0      5.0    76.0  2.0    10.0    1.0       1.0       1.0   \n",
       "4     7.0  35.0     14.0    80.0  2.0    15.0    0.0       1.0       0.0   \n",
       "\n",
       "   churn  \n",
       "0    1.0  \n",
       "1    1.0  \n",
       "2    0.0  \n",
       "3    0.0  \n",
       "4    0.0  "
      ]
     },
     "execution_count": 4,
     "metadata": {},
     "output_type": "execute_result"
    }
   ],
   "source": [
    "# TULIS CODE ANDA DISINI\n",
    "# df1 = df[['tenure','age','address','income','ed','employ','equip','callcard','wireless','churn']]\n",
    "df1 = df[['tenure','age','address','income','ed','employ','equip','callcard','wireless','churn']]\n",
    "df1.head()"
   ]
  },
  {
   "cell_type": "markdown",
   "metadata": {
    "colab_type": "text",
    "id": "3UygDhquI-5C"
   },
   "source": [
    "\n",
    "\n",
    "```\n",
    "# Output tabel\n",
    "```\n",
    "\n",
    "\n",
    "<img src = \"https://i.ibb.co/zmc2YP0/2.png\" align = \"center\">"
   ]
  },
  {
   "cell_type": "markdown",
   "metadata": {
    "colab_type": "text",
    "id": "o_yvdQz5WjC_"
   },
   "source": [
    "Kegiatan 3. **5 poin**\n",
    "\n",
    "Berapa ukuran dataset yang anda miliki sekarang? (row, coloumn)"
   ]
  },
  {
   "cell_type": "markdown",
   "metadata": {
    "colab_type": "text",
    "id": "KoOaOBTDFhiD"
   },
   "source": [
    "\n",
    "\n",
    "```\n",
    "# Output\n",
    "\n",
    "  (200, 10)\n",
    "```\n",
    "\n"
   ]
  },
  {
   "cell_type": "code",
   "execution_count": 5,
   "metadata": {
    "colab": {},
    "colab_type": "code",
    "id": "a1qcmh_WWhWD"
   },
   "outputs": [
    {
     "data": {
      "text/plain": [
       "(200, 10)"
      ]
     },
     "execution_count": 5,
     "metadata": {},
     "output_type": "execute_result"
    }
   ],
   "source": [
    "# TULIS CODE ANDA DISINI\n",
    "df1.shape"
   ]
  },
  {
   "cell_type": "markdown",
   "metadata": {
    "colab_type": "text",
    "id": "pufFRpmnW58l"
   },
   "source": [
    "Kegiatan 4. **5 poin**\n",
    "\n",
    "Tentukan x, dan y untuk dataset kita: \n",
    "\n",
    "**HINT!** ubah ke numpy array"
   ]
  },
  {
   "cell_type": "markdown",
   "metadata": {
    "colab_type": "text",
    "id": "SN7jZsNKGRKD"
   },
   "source": [
    "\n",
    "\n",
    "```\n",
    "# Output\n",
    "\n",
    "  array([[ 11.,  33.,   7., 136.,   1.,   1.,   1.],\n",
    "       [ 33.,  33.,  12.,  33.,   0.,   0.,   1.],\n",
    "       [ 23.,  30.,   9.,  30.,   0.,   0.,   0.],\n",
    "       [ 38.,  35.,   5.,  76.,   2.,  10.,   1.],\n",
    "       [  7.,  35.,  14.,  80.,   2.,  15.,   0.]])\n",
    "```\n",
    "\n"
   ]
  },
  {
   "cell_type": "markdown",
   "metadata": {
    "colab_type": "text",
    "id": "6eUBT0cgGaOS"
   },
   "source": [
    "\n",
    "\n",
    "```\n",
    "# Output\n",
    "\n",
    "  array([1, 1, 0, 0, 0])\n",
    "```\n",
    "\n"
   ]
  },
  {
   "cell_type": "code",
   "execution_count": 6,
   "metadata": {
    "colab": {},
    "colab_type": "code",
    "id": "qAkTen8GWzmx"
   },
   "outputs": [
    {
     "name": "stderr",
     "output_type": "stream",
     "text": [
      "C:\\Users\\blackou\\Anaconda3\\lib\\site-packages\\pandas\\core\\indexing.py:576: SettingWithCopyWarning: \n",
      "A value is trying to be set on a copy of a slice from a DataFrame.\n",
      "Try using .loc[row_indexer,col_indexer] = value instead\n",
      "\n",
      "See the caveats in the documentation: http://pandas.pydata.org/pandas-docs/stable/user_guide/indexing.html#returning-a-view-versus-a-copy\n",
      "  self.obj[item_labels[indexer[info_axis]]] = value\n"
     ]
    },
    {
     "data": {
      "text/plain": [
       "array([[11., 33.,  7., ...,  5.,  5.,  0.],\n",
       "       [33., 33., 12., ...,  2.,  0.,  0.],\n",
       "       [23., 30.,  9., ...,  1.,  2.,  0.],\n",
       "       ...,\n",
       "       [ 6., 32., 10., ...,  1., 10.,  0.],\n",
       "       [24., 30.,  0., ...,  4.,  5.,  0.],\n",
       "       [61., 50., 16., ...,  2., 22.,  1.]])"
      ]
     },
     "execution_count": 6,
     "metadata": {},
     "output_type": "execute_result"
    }
   ],
   "source": [
    "# TULIS CODE ANDA DISINI\n",
    "fea = ['tenure','age','address','income','ed','employ','equip']\n",
    "fea2 = ['callcard','wireless','churn']\n",
    "x = df1[fea].values\n",
    "y = df1[fea2]\n",
    "\n",
    "for i, col in enumerate(y.columns.tolist(), 1):\n",
    "    y.loc[:, col] *= i\n",
    "y = y.sum(axis=1)\n",
    "\n",
    "x"
   ]
  },
  {
   "cell_type": "markdown",
   "metadata": {
    "colab_type": "text",
    "id": "kEgQ9hUXXRgk"
   },
   "source": [
    "Kegiatan 5. **5 poin**\n",
    "\n",
    "Normalisasi dataset:\n",
    "\n",
    "**HINT** library preprocessing dari sklearn."
   ]
  },
  {
   "cell_type": "markdown",
   "metadata": {
    "colab_type": "text",
    "id": "jWKUzcMLHTWF"
   },
   "source": [
    "\n",
    "\n",
    "```\n",
    "# Output\n",
    "\n",
    "  array([[-1.13518441, -0.62595491, -0.4588971 ,  0.4751423 ,  1.6961288 ,\n",
    "        -0.58477841, -0.85972695],\n",
    "       [-0.11604313, -0.62595491,  0.03454064, -0.32886061, -0.6433592 ,\n",
    "        -1.14437497, -0.85972695],\n",
    "       [-0.57928917, -0.85594447, -0.261522  , -0.35227817, -1.42318853,\n",
    "        -0.92053635, -0.85972695],\n",
    "       [ 0.11557989, -0.47262854, -0.65627219,  0.00679109, -0.6433592 ,\n",
    "        -0.02518185,  1.16316   ],\n",
    "       [-1.32048283, -0.47262854,  0.23191574,  0.03801451, -0.6433592 ,\n",
    "         0.53441472, -0.85972695]])\n",
    "```\n",
    "\n"
   ]
  },
  {
   "cell_type": "code",
   "execution_count": 7,
   "metadata": {
    "colab": {},
    "colab_type": "code",
    "id": "ngHiqMLnXH_n"
   },
   "outputs": [
    {
     "data": {
      "text/plain": [
       "array([[-1.13518441, -0.62595491, -0.4588971 , ...,  1.6961288 ,\n",
       "        -0.58477841, -0.85972695],\n",
       "       [-0.11604313, -0.62595491,  0.03454064, ..., -0.6433592 ,\n",
       "        -1.14437497, -0.85972695],\n",
       "       [-0.57928917, -0.85594447, -0.261522  , ..., -1.42318853,\n",
       "        -0.92053635, -0.85972695],\n",
       "       ...,\n",
       "       [-1.36680743, -0.7026181 , -0.16283445, ..., -1.42318853,\n",
       "        -0.02518185, -0.85972695],\n",
       "       [-0.53296457, -0.85594447, -1.14970993, ...,  0.91629947,\n",
       "        -0.58477841, -0.85972695],\n",
       "       [ 1.18104577,  0.67731925,  0.42929083, ..., -0.6433592 ,\n",
       "         1.31784991,  1.16316   ]])"
      ]
     },
     "execution_count": 7,
     "metadata": {},
     "output_type": "execute_result"
    }
   ],
   "source": [
    "# TULIS CODE ANDA DISINI\n",
    "X = preprocessing.scale(x)\n",
    "# Y = preprocessing.scale(y)\n",
    "X"
   ]
  },
  {
   "cell_type": "markdown",
   "metadata": {
    "colab_type": "text",
    "id": "Ryi4jLpWXm2I"
   },
   "source": [
    "Kegiatan 6. **5 poin**\n",
    "\n",
    "Selanjutnya kita akan membagi dataset Anda menjadi train dan test set dengan porsi perbandingan 80:20 dan `random_state`tak didefinisikan:"
   ]
  },
  {
   "cell_type": "markdown",
   "metadata": {
    "colab_type": "text",
    "id": "Yiqy8YDbHsrZ"
   },
   "source": [
    "\n",
    "\n",
    "```\n",
    "# Output\n",
    "\n",
    "Train set: (160, 7) (160,)\n",
    "Test set: (40, 7) (40,)\n",
    "```\n",
    "\n"
   ]
  },
  {
   "cell_type": "code",
   "execution_count": 8,
   "metadata": {
    "colab": {},
    "colab_type": "code",
    "id": "1AanEZRdXioV"
   },
   "outputs": [
    {
     "name": "stdout",
     "output_type": "stream",
     "text": [
      "(160, 7) (160,)\n",
      "(40, 7) (40,)\n"
     ]
    }
   ],
   "source": [
    "# TULIS CODE ANDA DISINI\n",
    "from sklearn.model_selection import train_test_split\n",
    "X_train, X_test, y_train, y_test = train_test_split(X, y, test_size=0.20)\n",
    "print(X_train.shape,y_train.shape)\n",
    "print(X_test.shape,y_test.shape)"
   ]
  },
  {
   "cell_type": "markdown",
   "metadata": {
    "colab_type": "text",
    "id": "KxmAy_ugYo-7"
   },
   "source": [
    "\n",
    "\n",
    "--- \n",
    "Perhatikan materi modul 4 bagian **Modeling (Logistic Regression with Scikit-learn)**\n",
    "---\n",
    "\n",
    "\n",
    "---\n",
    "\n",
    "\n",
    "\n"
   ]
  },
  {
   "cell_type": "markdown",
   "metadata": {
    "colab_type": "text",
    "id": "oSXnvj_FY15e"
   },
   "source": [
    "Kegiatan 7. **30 poin per model**\n",
    "\n",
    "*POIN MAKSIMAL 60*\n",
    "\n",
    "Buatlah 2 model Logistic Regression baru untuk dataset yang sama, tetapi kali ini, gunakan nilai __solver__ dan __regularisasi__ yang berbeda? Apa nilai __logLoss__ baru?\n",
    "\n",
    "### *Ikuti step pengerjaan dibawah:*"
   ]
  },
  {
   "cell_type": "markdown",
   "metadata": {
    "colab_type": "text",
    "id": "fVwRTew_aUUP"
   },
   "source": [
    "Penilaian mulai dari:\n",
    "\n",
    "* Membuat model\n",
    "\n",
    "* Melakukan dan menampilkan hasil  prediksi data test `yhat dan yhat_prob`\n",
    "\n",
    "* Evaluation menggunakan confussion matrix.\n",
    "\n",
    "* Tampilkan hasil `classification_report`\n",
    "\n",
    "* Tampilkan hasil `log_loss`\n",
    "\n",
    "* Jelaskan semua hal yang anda menggerti atau hal yang anda dapatkan dalam modul ini."
   ]
  },
  {
   "cell_type": "markdown",
   "metadata": {
    "colab_type": "text",
    "id": "ZXBDwJ4ocG-1"
   },
   "source": [
    "### **BONUS 5 POIN jika semua kegiatan dapat diselesaikan dengan baik dan dapat menjelaskan semua kegiatan dengan fasih.**"
   ]
  },
  {
   "cell_type": "code",
   "execution_count": 9,
   "metadata": {
    "colab": {},
    "colab_type": "code",
    "id": "YRkKbr-ZXLBh"
   },
   "outputs": [
    {
     "name": "stdout",
     "output_type": "stream",
     "text": [
      "LogisticRegression(C=0.0001, class_weight=None, dual=False, fit_intercept=True,\n",
      "                   intercept_scaling=1, l1_ratio=None, max_iter=100,\n",
      "                   multi_class='warn', n_jobs=None, penalty='l2',\n",
      "                   random_state=None, solver='sag', tol=0.0001, verbose=0,\n",
      "                   warm_start=False)\n",
      "LogisticRegression(C=0.01, class_weight=None, dual=False, fit_intercept=True,\n",
      "                   intercept_scaling=1, l1_ratio=None, max_iter=100,\n",
      "                   multi_class='warn', n_jobs=None, penalty='l2',\n",
      "                   random_state=None, solver='lbfgs', tol=0.0001, verbose=0,\n",
      "                   warm_start=False)\n"
     ]
    },
    {
     "name": "stderr",
     "output_type": "stream",
     "text": [
      "C:\\Users\\blackou\\Anaconda3\\lib\\site-packages\\sklearn\\linear_model\\logistic.py:469: FutureWarning: Default multi_class will be changed to 'auto' in 0.22. Specify the multi_class option to silence this warning.\n",
      "  \"this warning.\", FutureWarning)\n",
      "C:\\Users\\blackou\\Anaconda3\\lib\\site-packages\\sklearn\\linear_model\\sag.py:337: ConvergenceWarning: The max_iter was reached which means the coef_ did not converge\n",
      "  \"the coef_ did not converge\", ConvergenceWarning)\n",
      "C:\\Users\\blackou\\Anaconda3\\lib\\site-packages\\sklearn\\linear_model\\logistic.py:469: FutureWarning: Default multi_class will be changed to 'auto' in 0.22. Specify the multi_class option to silence this warning.\n",
      "  \"this warning.\", FutureWarning)\n"
     ]
    }
   ],
   "source": [
    "# TULIS CODE ANDA DISINI\n",
    "\n",
    "LogRes1 = LogisticRegression(C=0.0001, solver='sag')\n",
    "LogRes2 = LogisticRegression(C=0.01, solver='lbfgs')\n",
    "LR = LogRes1.fit(X_train,y_train)\n",
    "LR2 = LogRes2.fit(X_train,y_train)\n",
    "print(LR)\n",
    "print(LR2)"
   ]
  },
  {
   "cell_type": "code",
   "execution_count": 10,
   "metadata": {},
   "outputs": [
    {
     "name": "stdout",
     "output_type": "stream",
     "text": [
      "[1. 1. 1. 1. 1. 1. 1. 1. 1. 1. 1. 1. 1. 1. 1. 1. 1. 1. 1. 1. 1. 1. 1. 1.\n",
      " 1. 1. 1. 1. 1. 1. 1. 1. 1. 1. 1. 1. 1. 1. 1. 1.]\n",
      "[[0.1250781  0.37426505 0.01895029 0.31210788 0.05028623 0.02550181\n",
      "  0.09381064]\n",
      " [0.12512828 0.37257151 0.01896788 0.31345465 0.05029855 0.02552967\n",
      "  0.09404946]\n",
      " [0.12464047 0.37423394 0.01894532 0.31257586 0.0501843  0.02549092\n",
      "  0.09392918]\n",
      " [0.12439143 0.3752585  0.01893457 0.31202535 0.05012138 0.02546573\n",
      "  0.09380305]\n",
      " [0.12451179 0.37704531 0.01893043 0.31060679 0.05013511 0.02542677\n",
      "  0.0933438 ]\n",
      " [0.12489526 0.37409461 0.01896051 0.31260894 0.05018834 0.02550211\n",
      "  0.09375023]\n",
      " [0.12464767 0.37709255 0.01894713 0.31043641 0.05015264 0.0254359\n",
      "  0.0932877 ]\n",
      " [0.12530843 0.37391687 0.01895646 0.312299   0.05036957 0.02549001\n",
      "  0.09365967]\n",
      " [0.12539786 0.371531   0.01897826 0.31401125 0.05036047 0.0255567\n",
      "  0.09416447]\n",
      " [0.12522025 0.37427933 0.0189523  0.31206139 0.05032118 0.02549615\n",
      "  0.09366939]\n",
      " [0.12536709 0.37405015 0.01896661 0.31213315 0.05034823 0.02550253\n",
      "  0.09363224]\n",
      " [0.12480139 0.37564466 0.01893519 0.31140782 0.05024098 0.02544968\n",
      "  0.09352028]\n",
      " [0.12390555 0.37744574 0.01892393 0.31075925 0.04998093 0.02542335\n",
      "  0.09356125]\n",
      " [0.1253401  0.37418959 0.01896517 0.31208386 0.05032246 0.02550177\n",
      "  0.09359704]\n",
      " [0.12522639 0.37378814 0.01895135 0.31239286 0.050338   0.02550344\n",
      "  0.09379982]\n",
      " [0.12528126 0.37420299 0.01895854 0.31209734 0.05034768 0.02549034\n",
      "  0.09362185]\n",
      " [0.12404311 0.37652127 0.01892805 0.31135356 0.05001212 0.02544233\n",
      "  0.09369955]\n",
      " [0.12404334 0.37926503 0.01891654 0.30932002 0.05003195 0.02537146\n",
      "  0.09305165]\n",
      " [0.12539116 0.37295957 0.01896101 0.31284728 0.05036161 0.02553125\n",
      "  0.09394812]\n",
      " [0.12401229 0.37893765 0.01895609 0.30894623 0.05004012 0.02544221\n",
      "  0.0936654 ]\n",
      " [0.12549945 0.37258815 0.01896361 0.31301722 0.05039033 0.0255429\n",
      "  0.09399835]\n",
      " [0.12422308 0.37876571 0.01891874 0.3094973  0.05003726 0.02540695\n",
      "  0.09315095]\n",
      " [0.1257415  0.37212358 0.01897618 0.31323482 0.05045352 0.02554658\n",
      "  0.09392381]\n",
      " [0.12445225 0.37713318 0.01892703 0.31057122 0.05014933 0.02541622\n",
      "  0.09335078]\n",
      " [0.12565406 0.37252039 0.01897304 0.3130097  0.05042821 0.0255387\n",
      "  0.0938759 ]\n",
      " [0.12461468 0.37738467 0.0189378  0.31031067 0.05011843 0.02543286\n",
      "  0.09320089]\n",
      " [0.12469182 0.37676443 0.01894467 0.31069373 0.050167   0.02543627\n",
      "  0.0933021 ]\n",
      " [0.1247552  0.37615651 0.0189482  0.31099744 0.05020218 0.02545403\n",
      "  0.09348644]\n",
      " [0.12506008 0.37330477 0.0189636  0.31301954 0.05026019 0.02551599\n",
      "  0.09387584]\n",
      " [0.12457673 0.37639349 0.01892994 0.31096371 0.0501456  0.02545285\n",
      "  0.09353767]\n",
      " [0.12481338 0.37426495 0.01895258 0.31255645 0.05018215 0.025492\n",
      "  0.09373848]\n",
      " [0.12487335 0.37318792 0.01895185 0.31321342 0.05023421 0.02551242\n",
      "  0.09402683]\n",
      " [0.12429604 0.37759896 0.01892104 0.31033893 0.0500899  0.02541267\n",
      "  0.09334247]\n",
      " [0.12542813 0.37337887 0.01896498 0.31255825 0.05037721 0.02551521\n",
      "  0.09377735]\n",
      " [0.12462948 0.37641866 0.01893654 0.31095896 0.05018624 0.02543523\n",
      "  0.09343488]\n",
      " [0.12428061 0.37823281 0.01892305 0.30991709 0.05009318 0.02539309\n",
      "  0.09316017]\n",
      " [0.12527144 0.37386919 0.01895326 0.31233791 0.05034948 0.02549763\n",
      "  0.0937211 ]\n",
      " [0.12507438 0.37241814 0.01896712 0.31353532 0.05026157 0.02554884\n",
      "  0.09419463]\n",
      " [0.12441762 0.37781386 0.01892803 0.31010033 0.05012625 0.02540712\n",
      "  0.0932068 ]\n",
      " [0.12487224 0.3731608  0.01895904 0.31318801 0.05020661 0.02552676\n",
      "  0.09408654]]\n"
     ]
    }
   ],
   "source": [
    "yhat = LR.predict(X_test)\n",
    "yhat_prob = LR.predict_proba(X_test)\n",
    "\n",
    "print(yhat)\n",
    "print(yhat_prob)"
   ]
  },
  {
   "cell_type": "code",
   "execution_count": 11,
   "metadata": {},
   "outputs": [],
   "source": [
    "def plot_confusion_matrix(cm, classes,\n",
    "                          normalize=False,\n",
    "                          title='Confusion matrix',\n",
    "                          cmap=plt.cm.Blues):\n",
    "    \"\"\"\n",
    "    Fungsi ini mencetak dan memplot matriks kebingungan.\n",
    "    Normalisasi dapat diterapkan dengan mengatur `normalize = True`.\n",
    "    \"\"\"\n",
    "    if normalize:\n",
    "        cm = cm.astype('float') / cm.sum(axis=1)[:, np.newaxis]\n",
    "        print(\"Normalized confusion matrix\")\n",
    "    else:\n",
    "        print('Confusion matrix, without normalization')\n",
    "\n",
    "    print(cm)\n",
    "\n",
    "    plt.imshow(cm, interpolation='nearest', cmap=cmap)\n",
    "    plt.title(title)\n",
    "    plt.colorbar()\n",
    "    tick_marks = np.arange(len(classes))\n",
    "    plt.xticks(tick_marks, classes, rotation=45)\n",
    "    plt.yticks(tick_marks, classes)\n",
    "\n",
    "    fmt = '.2f' if normalize else 'd'\n",
    "    thresh = cm.max() / 2.\n",
    "    for i, j in itertools.product(range(cm.shape[0]), range(cm.shape[1])):\n",
    "        plt.text(j, i, format(cm[i, j], fmt),\n",
    "                 horizontalalignment=\"center\",\n",
    "                 color=\"white\" if cm[i, j] > thresh else \"black\")\n",
    "\n",
    "    plt.tight_layout()\n",
    "    plt.ylabel('True label')\n",
    "    plt.xlabel('Predicted label')\n"
   ]
  },
  {
   "cell_type": "code",
   "execution_count": 12,
   "metadata": {},
   "outputs": [
    {
     "name": "stdout",
     "output_type": "stream",
     "text": [
      "[[22  0]\n",
      " [ 6  0]]\n"
     ]
    }
   ],
   "source": [
    "print(confusion_matrix(y_test, yhat, labels=[1,0]))"
   ]
  },
  {
   "cell_type": "code",
   "execution_count": 13,
   "metadata": {},
   "outputs": [
    {
     "name": "stdout",
     "output_type": "stream",
     "text": [
      "Confusion matrix, without normalization\n",
      "[[22  0]\n",
      " [ 6  0]]\n"
     ]
    },
    {
     "data": {
      "image/png": "[encoded data removed]",
      "text/plain": [
       "<Figure size 432x288 with 2 Axes>"
      ]
     },
     "metadata": {
      "needs_background": "light"
     },
     "output_type": "display_data"
    }
   ],
   "source": [
    "cnf_matrix = confusion_matrix(y_test, yhat, labels=[1,0])\n",
    "np.set_printoptions(precision=2)\n",
    "\n",
    "\n",
    "# Plot non-normalized confusion matrix\n",
    "plt.figure()\n",
    "plot_confusion_matrix(cnf_matrix, classes=['churn=1','churn=0'],normalize= False,  title='Confusion matrix')"
   ]
  },
  {
   "cell_type": "code",
   "execution_count": 14,
   "metadata": {},
   "outputs": [
    {
     "name": "stdout",
     "output_type": "stream",
     "text": [
      "              precision    recall  f1-score   support\n",
      "\n",
      "         0.0       0.00      0.00      0.00         6\n",
      "         1.0       0.55      1.00      0.71        22\n",
      "         3.0       0.00      0.00      0.00         6\n",
      "         4.0       0.00      0.00      0.00         1\n",
      "         5.0       0.00      0.00      0.00         1\n",
      "         6.0       0.00      0.00      0.00         4\n",
      "\n",
      "    accuracy                           0.55        40\n",
      "   macro avg       0.09      0.17      0.12        40\n",
      "weighted avg       0.30      0.55      0.39        40\n",
      "\n"
     ]
    },
    {
     "name": "stderr",
     "output_type": "stream",
     "text": [
      "C:\\Users\\blackou\\Anaconda3\\lib\\site-packages\\sklearn\\metrics\\classification.py:1437: UndefinedMetricWarning: Precision and F-score are ill-defined and being set to 0.0 in labels with no predicted samples.\n",
      "  'precision', 'predicted', average, warn_for)\n"
     ]
    }
   ],
   "source": [
    "print (classification_report(y_test, yhat))"
   ]
  },
  {
   "cell_type": "code",
   "execution_count": null,
   "metadata": {},
   "outputs": [],
   "source": []
  }
 ],
 "metadata": {
  "colab": {
   "authorship_tag": "ABX9TyPIiTTT1/WlyM7Zma5JR9ZL",
   "collapsed_sections": [],
   "name": "Kegiatan Modul 4.ipynb",
   "provenance": []
  },
  "kernelspec": {
   "display_name": "Python 3",
   "language": "python",
   "name": "python3"
  },
  "language_info": {
   "codemirror_mode": {
    "name": "ipython",
    "version": 3
   },
   "file_extension": ".py",
   "mimetype": "text/x-python",
   "name": "python",
   "nbconvert_exporter": "python",
   "pygments_lexer": "ipython3",
   "version": "3.7.3"
  }
 },
 "nbformat": 4,
 "nbformat_minor": 1
}
