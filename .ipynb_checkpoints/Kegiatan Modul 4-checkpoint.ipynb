{
 "cells": [
  {
   "cell_type": "markdown",
   "metadata": {
    "colab_type": "text",
    "id": "Ce1QYj9YTyv8"
   },
   "source": [
    "# **Kegiatan Modul 4**"
   ]
  },
  {
   "cell_type": "markdown",
   "metadata": {
    "colab_type": "text",
    "id": "kOw3wDqkT3Eh"
   },
   "source": [
    "**Poin penilaian :**\n",
    "\n",
    "* Tingkat kesesuaian program\n",
    "* Kesesuaian step preprocessing dan pemodelan\n",
    "* Penjelasan yang tepat\n",
    "* Kerapian kode program\n",
    "* Tidak ada error"
   ]
  },
  {
   "cell_type": "code",
   "execution_count": 0,
   "metadata": {
    "colab": {},
    "colab_type": "code",
    "id": "vqBlACAAUX3S"
   },
   "outputs": [],
   "source": [
    "import pandas as pd\n",
    "import pylab as pl\n",
    "import numpy as np\n",
    "import scipy.optimize as opt\n",
    "from sklearn import preprocessing\n",
    "%matplotlib inline \n",
    "import matplotlib.pyplot as plt"
   ]
  },
  {
   "cell_type": "markdown",
   "metadata": {
    "colab_type": "text",
    "id": "0P2feQZJUdvv"
   },
   "source": [
    "### Tentang dataset\n",
    "\n",
    "Kita akan menggunakan data telekomunikasi untuk memprediksi churn pelanggan. Ini adalah data pelanggan historis di mana setiap baris mewakili satu pelanggan. Data ini relatif mudah dipahami, dan Anda dapat mengungkap wawasan yang dapat Anda gunakan segera. Biasanya lebih murah untuk mempertahankan pelanggan daripada membeli yang baru, jadi fokus analisis ini adalah untuk memprediksi pelanggan yang akan tinggal di perusahaan.\n",
    "\n",
    "Kumpulan data ini menyediakan info untuk membantu Anda memprediksi perilaku mempertahankan pelanggan. Anda dapat menganalisis semua data pelanggan yang relevan dan mengembangkan program retensi pelanggan yang terfokus.\n",
    "\n",
    "Kumpulan data mencakup informasi tentang:\n",
    "\n",
    "- Pelanggan yang pergi dalam sebulan terakhir - kolom ini disebut Churn\n",
    "- Layanan yang telah ditandatangani oleh setiap pelanggan - telepon, banyak saluran, internet, keamanan online, cadangan online, perlindungan perangkat, dukungan teknis, dan streaming TV dan film\n",
    "- Informasi akun pelanggan - berapa lama mereka menjadi pelanggan, kontrak, metode pembayaran, penagihan tanpa kertas, biaya bulanan, dan total biaya\n",
    "- Info demografis tentang pelanggan - jenis kelamin, rentang usia, dan jika mereka memiliki mitra dan tanggungan"
   ]
  },
  {
   "cell_type": "markdown",
   "metadata": {
    "colab_type": "text",
    "id": "JBjU-xM5Ul5s"
   },
   "source": [
    "### **Download the Telco Churn data**\n",
    "\n",
    "Telco Churn adalah file data hipotetis yang menyangkut upaya perusahaan telekomunikasi untuk mengurangi turnover di basis pelanggannya. Setiap kasing sesuai dengan pelanggan terpisah dan mencatat berbagai informasi penggunaan layanan dan demografis. Sebelum Anda dapat bekerja dengan data, Anda harus menggunakan URL untuk mendapatkan ChurnData.csv.\n",
    "\n",
    "Untuk mengunduh data, kami akan menggunakan `!wget` untuk mengunduhnya dari IBM Object Storage."
   ]
  },
  {
   "cell_type": "code",
   "execution_count": 0,
   "metadata": {
    "colab": {
     "base_uri": "https://localhost:8080/",
     "height": 202
    },
    "colab_type": "code",
    "executionInfo": {
     "elapsed": 3021,
     "status": "ok",
     "timestamp": 1581405996937,
     "user": {
      "displayName": "Moch. Chamdani Mustaqim",
      "photoUrl": "https://lh3.googleusercontent.com/-33nbQYx-djs/AAAAAAAAAAI/AAAAAAAACx4/SN7K3gZtORs/s64/photo.jpg",
      "userId": "12782341176521372008"
     },
     "user_tz": -420
    },
    "id": "jF6qYZXdT0mN",
    "outputId": "3e4ff57c-c28a-44ed-e79a-1189b3bf71cf"
   },
   "outputs": [
    {
     "name": "stdout",
     "output_type": "stream",
     "text": [
      "--2020-02-11 07:26:41--  https://s3-api.us-geo.objectstorage.softlayer.net/cf-courses-data/CognitiveClass/ML0101ENv3/labs/ChurnData.csv\n",
      "Resolving s3-api.us-geo.objectstorage.softlayer.net (s3-api.us-geo.objectstorage.softlayer.net)... 67.228.254.196\n",
      "Connecting to s3-api.us-geo.objectstorage.softlayer.net (s3-api.us-geo.objectstorage.softlayer.net)|67.228.254.196|:443... connected.\n",
      "HTTP request sent, awaiting response... 200 OK\n",
      "Length: 36144 (35K) [text/csv]\n",
      "Saving to: ‘ChurnData.csv’\n",
      "\n",
      "\r",
      "ChurnData.csv         0%[                    ]       0  --.-KB/s               \r",
      "ChurnData.csv       100%[===================>]  35.30K  --.-KB/s    in 0.01s   \n",
      "\n",
      "2020-02-11 07:26:41 (2.88 MB/s) - ‘ChurnData.csv’ saved [36144/36144]\n",
      "\n"
     ]
    }
   ],
   "source": [
    "!wget -O ChurnData.csv https://s3-api.us-geo.objectstorage.softlayer.net/cf-courses-data/CognitiveClass/ML0101ENv3/labs/ChurnData.csv"
   ]
  },
  {
   "cell_type": "markdown",
   "metadata": {
    "colab_type": "text",
    "id": "R2Ge8cYqVCRk"
   },
   "source": [
    "## **SOAL-SOAL**"
   ]
  },
  {
   "cell_type": "markdown",
   "metadata": {
    "colab_type": "text",
    "id": "KxxQ9WP4U05O"
   },
   "source": [
    "Kegiatan 1. **5 poin**\n",
    "\n",
    "Load dataset dari file csv."
   ]
  },
  {
   "cell_type": "code",
   "execution_count": 0,
   "metadata": {
    "colab": {},
    "colab_type": "code",
    "id": "znKaRHdbUrcp"
   },
   "outputs": [],
   "source": [
    "# TULIS CODE ANDA DISINI"
   ]
  },
  {
   "cell_type": "markdown",
   "metadata": {
    "colab_type": "text",
    "id": "4MPpoR9PIfcx"
   },
   "source": [
    "\n",
    "\n",
    "```\n",
    "# Output tabel\n",
    "```\n",
    "\n",
    "\n",
    "<img src = \"https://i.ibb.co/Ss0mQk3/1.png\" align = \"center\">"
   ]
  },
  {
   "cell_type": "markdown",
   "metadata": {
    "colab_type": "text",
    "id": "kAQAPH3AWJTD"
   },
   "source": [
    "### **Data pre-processing and selection**\n",
    "\n",
    "Kegiatan 2. **10 poin**\n",
    "\n",
    "Mari kita pilih beberapa fitur untuk pemodelan dalam kasus ini kita akan memilih fitur `tenure, age, address, income, ed, employ, equip, callcard, wireless, churn`. \n",
    "\n",
    "Kita juga mengubah tipe data target menjadi bilangan bulat, sebab merupakan persyaratan oleh algoritma pembelajaran scikit:"
   ]
  },
  {
   "cell_type": "code",
   "execution_count": 0,
   "metadata": {
    "colab": {},
    "colab_type": "code",
    "id": "JxAC8l2RVJ5y"
   },
   "outputs": [],
   "source": [
    "# TULIS CODE ANDA DISINI"
   ]
  },
  {
   "cell_type": "markdown",
   "metadata": {
    "colab_type": "text",
    "id": "3UygDhquI-5C"
   },
   "source": [
    "\n",
    "\n",
    "```\n",
    "# Output tabel\n",
    "```\n",
    "\n",
    "\n",
    "<img src = \"https://i.ibb.co/zmc2YP0/2.png\" align = \"center\">"
   ]
  },
  {
   "cell_type": "markdown",
   "metadata": {
    "colab_type": "text",
    "id": "o_yvdQz5WjC_"
   },
   "source": [
    "Kegiatan 3. **5 poin**\n",
    "\n",
    "Berapa ukuran dataset yang anda miliki sekarang? (row, coloumn)"
   ]
  },
  {
   "cell_type": "markdown",
   "metadata": {
    "colab_type": "text",
    "id": "KoOaOBTDFhiD"
   },
   "source": [
    "\n",
    "\n",
    "```\n",
    "# Output\n",
    "\n",
    "  (200, 10)\n",
    "```\n",
    "\n"
   ]
  },
  {
   "cell_type": "code",
   "execution_count": 0,
   "metadata": {
    "colab": {},
    "colab_type": "code",
    "id": "a1qcmh_WWhWD"
   },
   "outputs": [],
   "source": [
    "# TULIS CODE ANDA DISINI"
   ]
  },
  {
   "cell_type": "markdown",
   "metadata": {
    "colab_type": "text",
    "id": "pufFRpmnW58l"
   },
   "source": [
    "Kegiatan 4. **5 poin**\n",
    "\n",
    "Tentukan x, dan y untuk dataset kita: \n",
    "\n",
    "**HINT!** ubah ke numpy array"
   ]
  },
  {
   "cell_type": "markdown",
   "metadata": {
    "colab_type": "text",
    "id": "SN7jZsNKGRKD"
   },
   "source": [
    "\n",
    "\n",
    "```\n",
    "# Output\n",
    "\n",
    "  array([[ 11.,  33.,   7., 136.,   5.,   5.,   0.],\n",
    "       [ 33.,  33.,  12.,  33.,   2.,   0.,   0.],\n",
    "       [ 23.,  30.,   9.,  30.,   1.,   2.,   0.],\n",
    "       [ 38.,  35.,   5.,  76.,   2.,  10.,   1.],\n",
    "       [  7.,  35.,  14.,  80.,   2.,  15.,   0.]])\n",
    "```\n",
    "\n"
   ]
  },
  {
   "cell_type": "code",
   "execution_count": 0,
   "metadata": {
    "colab": {},
    "colab_type": "code",
    "id": "qAkTen8GWzmx"
   },
   "outputs": [],
   "source": [
    "# TULIS CODE ANDA DISINI"
   ]
  },
  {
   "cell_type": "markdown",
   "metadata": {
    "colab_type": "text",
    "id": "6eUBT0cgGaOS"
   },
   "source": [
    "\n",
    "\n",
    "```\n",
    "# Output\n",
    "\n",
    "  array([1, 1, 0, 0, 0])\n",
    "```\n",
    "\n"
   ]
  },
  {
   "cell_type": "code",
   "execution_count": 0,
   "metadata": {
    "colab": {},
    "colab_type": "code",
    "id": "ngHiqMLnXH_n"
   },
   "outputs": [],
   "source": [
    "# TULIS CODE ANDA DISINI"
   ]
  },
  {
   "cell_type": "markdown",
   "metadata": {
    "colab_type": "text",
    "id": "kEgQ9hUXXRgk"
   },
   "source": [
    "Kegiatan 5. **5 poin**\n",
    "\n",
    "Normalisasi dataset:\n",
    "\n",
    "**HINT** library preprocessing dari sklearn."
   ]
  },
  {
   "cell_type": "markdown",
   "metadata": {
    "colab_type": "text",
    "id": "jWKUzcMLHTWF"
   },
   "source": [
    "\n",
    "\n",
    "```\n",
    "# Output\n",
    "\n",
    "  array([[-1.13518441, -0.62595491, -0.4588971 ,  0.4751423 ,  1.6961288 ,\n",
    "        -0.58477841, -0.85972695],\n",
    "       [-0.11604313, -0.62595491,  0.03454064, -0.32886061, -0.6433592 ,\n",
    "        -1.14437497, -0.85972695],\n",
    "       [-0.57928917, -0.85594447, -0.261522  , -0.35227817, -1.42318853,\n",
    "        -0.92053635, -0.85972695],\n",
    "       [ 0.11557989, -0.47262854, -0.65627219,  0.00679109, -0.6433592 ,\n",
    "        -0.02518185,  1.16316   ],\n",
    "       [-1.32048283, -0.47262854,  0.23191574,  0.03801451, -0.6433592 ,\n",
    "         0.53441472, -0.85972695]])\n",
    "```\n",
    "\n"
   ]
  },
  {
   "cell_type": "code",
   "execution_count": 0,
   "metadata": {
    "colab": {},
    "colab_type": "code",
    "id": "YRkKbr-ZXLBh"
   },
   "outputs": [],
   "source": [
    "# TULIS CODE ANDA DISINI"
   ]
  },
  {
   "cell_type": "markdown",
   "metadata": {
    "colab_type": "text",
    "id": "Ryi4jLpWXm2I"
   },
   "source": [
    "Kegiatan 6. **5 poin**\n",
    "\n",
    "Selanjutnya kita akan membagi dataset Anda menjadi train dan test set dengan porsi perbandingan 80:20 dan `random_state`tak didefinisikan:"
   ]
  },
  {
   "cell_type": "markdown",
   "metadata": {
    "colab_type": "text",
    "id": "Yiqy8YDbHsrZ"
   },
   "source": [
    "\n",
    "\n",
    "```\n",
    "# Output\n",
    "\n",
    "Train set: (160, 7) (160,)\n",
    "Test set: (40, 7) (40,)\n",
    "```\n",
    "\n"
   ]
  },
  {
   "cell_type": "code",
   "execution_count": 0,
   "metadata": {
    "colab": {},
    "colab_type": "code",
    "id": "1AanEZRdXioV"
   },
   "outputs": [],
   "source": [
    "# TULIS CODE ANDA DISINI"
   ]
  },
  {
   "cell_type": "markdown",
   "metadata": {
    "colab_type": "text",
    "id": "KxmAy_ugYo-7"
   },
   "source": [
    "\n",
    "\n",
    "--- \n",
    "Perhatikan materi modul 4 bagian **Modeling (Logistic Regression with Scikit-learn)**\n",
    "---\n",
    "\n",
    "\n",
    "---\n",
    "\n",
    "\n",
    "\n"
   ]
  },
  {
   "cell_type": "markdown",
   "metadata": {
    "colab_type": "text",
    "id": "oSXnvj_FY15e"
   },
   "source": [
    "Kegiatan 7. **30 poin per model**\n",
    "\n",
    "*POIN MAKSIMAL 60*\n",
    "\n",
    "Buatlah 2 model Logistic Regression baru untuk dataset yang sama, tetapi kali ini, gunakan nilai __solver__ dan __regularisasi__ yang berbeda? Apa nilai __logLoss__ baru?\n",
    "\n",
    "### *Ikuti step pengerjaan dibawah:*"
   ]
  },
  {
   "cell_type": "markdown",
   "metadata": {
    "colab_type": "text",
    "id": "fVwRTew_aUUP"
   },
   "source": [
    "Penilaian mulai dari:\n",
    "\n",
    "* Membuat model\n",
    "\n",
    "* Melakukan dan menampilkan hasil  prediksi data test `yhat dan yhat_prob`\n",
    "\n",
    "* Evaluation menggunakan confussion matrix.\n",
    "\n",
    "* Tampilkan hasil `classification_report`\n",
    "\n",
    "* Tampilkan hasil `log_loss`\n",
    "\n",
    "* Jelaskan semua hal yang anda menggerti atau hal yang anda dapatkan dalam modul ini."
   ]
  },
  {
   "cell_type": "markdown",
   "metadata": {
    "colab_type": "text",
    "id": "ZXBDwJ4ocG-1"
   },
   "source": [
    "### **BONUS 5 POIN jika semua kegiatan dapat diselesaikan dengan baik dan dapat menjelaskan semua kegiatan dengan fasih.**"
   ]
  }
 ],
 "metadata": {
  "colab": {
   "authorship_tag": "ABX9TyPIiTTT1/WlyM7Zma5JR9ZL",
   "collapsed_sections": [],
   "name": "Kegiatan Modul 4.ipynb",
   "provenance": []
  },
  "kernelspec": {
   "display_name": "Python 3",
   "language": "python",
   "name": "python3"
  },
  "language_info": {
   "codemirror_mode": {
    "name": "ipython",
    "version": 3
   },
   "file_extension": ".py",
   "mimetype": "text/x-python",
   "name": "python",
   "nbconvert_exporter": "python",
   "pygments_lexer": "ipython3",
   "version": "3.7.3"
  }
 },
 "nbformat": 4,
 "nbformat_minor": 1
}
